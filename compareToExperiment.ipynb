{
 "cells": [
  {
   "cell_type": "code",
   "execution_count": 1,
   "id": "identical-license",
   "metadata": {},
   "outputs": [],
   "source": [
    "import numpy as np\n",
    "import contactModel as c\n",
    "import scipy.io as sio\n",
    "import matplotlib.pyplot as plt"
   ]
  },
  {
   "cell_type": "code",
   "execution_count": 2,
   "id": "warming-houston",
   "metadata": {},
   "outputs": [],
   "source": [
    "data = sio.loadmat('experimentalData')\n",
    "x = np.transpose(data['data']['x'][0][0]).reshape(-1)\n",
    "y = np.transpose(data['data']['y'][0][0]).reshape(-1)\n",
    "h = np.transpose(data['data']['h'][0][0]).reshape(-1)\n",
    "h = h-np.max(h)\n",
    "r = np.transpose(data['data']['R'][0][0]).reshape(-1)"
   ]
  },
  {
   "cell_type": "code",
   "execution_count": 12,
   "id": "cathedral-floor",
   "metadata": {},
   "outputs": [],
   "source": [
    "variables = {'h': h,\n",
    "            'r': r,\n",
    "            'x': x,\n",
    "            'y': y,\n",
    "            'E': 1850000,\n",
    "            'nu': .49}\n",
    "model = c.surface(variables)"
   ]
  },
  {
   "cell_type": "code",
   "execution_count": 13,
   "id": "returning-examination",
   "metadata": {},
   "outputs": [
    {
     "name": "stderr",
     "output_type": "stream",
     "text": [
      "/Users/kjetilthogersen/Dropbox/Min Mac (eduroam-193-157-165-96.wlan.uio.no)/Documents/GitHub/frictionPrediction/contactModel.py:38: RuntimeWarning: invalid value encountered in sqrt\n",
      "  a = (self.r*z)**.5\n",
      "/Users/kjetilthogersen/Dropbox/Min Mac (eduroam-193-157-165-96.wlan.uio.no)/Documents/GitHub/frictionPrediction/contactModel.py:85: RuntimeWarning: invalid value encountered in sqrt\n",
      "  a[a<eps] = (self.r[a<eps]*(z[a<eps]-u[a<eps]))**.5\n"
     ]
    }
   ],
   "source": [
    "model.solveNormalContact(indentations = np.linspace(0,1.5e-4,100))"
   ]
  },
  {
   "cell_type": "code",
   "execution_count": 6,
   "id": "excellent-catholic",
   "metadata": {},
   "outputs": [
    {
     "data": {
      "text/plain": [
       "[<matplotlib.lines.Line2D at 0x164707e48>]"
      ]
     },
     "execution_count": 6,
     "metadata": {},
     "output_type": "execute_result"
    },
    {
     "data": {
      "image/png": "[encoded data removed]",
      "text/plain": [
       "<Figure size 432x288 with 1 Axes>"
      ]
     },
     "metadata": {
      "needs_background": "light"
     },
     "output_type": "display_data"
    }
   ],
   "source": [
    "plt.plot(model.normal_force,model.contact_area)\n",
    "plt.plot(data['data']['N'][0][0],data['data']['total_A'][0][0][:,0],'ok')"
   ]
  }
 ],
 "metadata": {
  "kernelspec": {
   "display_name": "Python 3",
   "language": "python",
   "name": "python3"
  },
  "language_info": {
   "codemirror_mode": {
    "name": "ipython",
    "version": 3
   },
   "file_extension": ".py",
   "mimetype": "text/x-python",
   "name": "python",
   "nbconvert_exporter": "python",
   "pygments_lexer": "ipython3",
   "version": "3.7.2"
  }
 },
 "nbformat": 4,
 "nbformat_minor": 5
}
